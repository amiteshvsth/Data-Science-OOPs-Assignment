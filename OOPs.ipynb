{
  "metadata": {
    "kernelspec": {
      "name": "python",
      "display_name": "Python (Pyodide)",
      "language": "python"
    },
    "language_info": {
      "codemirror_mode": {
        "name": "python",
        "version": 3
      },
      "file_extension": ".py",
      "mimetype": "text/x-python",
      "name": "python",
      "nbconvert_exporter": "python",
      "pygments_lexer": "ipython3",
      "version": "3.8"
    }
  },
  "nbformat_minor": 5,
  "nbformat": 4,
  "cells": [
    {
      "id": "899441a0-15cb-4998-a44c-47afb931e711",
      "cell_type": "code",
      "source": "# Q1. What are the five key concepts of Object-Oriented Programming (OOP)?\n\n'''\nAnswer\n\n\nThe five key concepts of Object-Oriented Programming (OOP) are:\n\n1. Encapsulation: Encapsulation involves bundling the data (attributes) and methods (functions) that operate on the data into a single unit, known as a class. \nIt restricts direct access to some of an object's components, which helps protect the integrity of the data and prevents unauthorized or accidental modifications. \nEncapsulation is achieved using access specifiers like private, protected, and public.\n\n2. Abstraction: Abstraction focuses on hiding the complex implementation details of an object and exposing only the necessary parts through a simplified interface. \nIt helps in managing complexity by allowing the user to interact with the object without knowing its internal workings.\n\n3. Inheritance: Inheritance is the mechanism by which one class (child or subclass) can inherit the properties and methods of another class (parent or superclass). \nThis promotes code reuse, establishes a relationship between classes, and enables the creation of a hierarchy.\n\n4. Polymorphism: Polymorphism allows objects of different classes to be treated as objects of a common superclass. \nIt enables a single interface to represent different underlying data types. The most common example of polymorphism is method overriding, where a subclass provides a specific \nimplementation of a method declared in its superclass.\n\n5. Association (Including Aggregation and Composition): Association refers to the relationship between objects. It can be of various types, such as:\n\n6. Aggregation: A \"has-a\" relationship where the child can exist independently of the parent (e.g., a university and its students).\nComposition: A stronger form of aggregation where the child cannot exist independently of the parent (e.g., a car and its engine).\n\n'''",
      "metadata": {
        "trusted": true
      },
      "outputs": [],
      "execution_count": null
    },
    {
      "id": "40d12c6f-2fa8-4cf3-9859-42ba395cdc14",
      "cell_type": "code",
      "source": "# Q2. Write a Python class for a Car with attributes for make, model, and year. Include a method to display the car's information.\n\n'''\nAnswer\n'''\nclass Car:\n    def __init__(self, make, model, year):\n        self.make = make\n        self.model = model\n        self.year = year\n\n    def display_info(self):\n        print(f\"Car Information: {self.year} {self.make} {self.model}\")\n\n# Example usage\ncar1 = Car(\"Toyota\", \"Corolla\", 2020)\ncar1.display_info()\n",
      "metadata": {
        "trusted": true
      },
      "outputs": [],
      "execution_count": null
    },
    {
      "id": "f0da21e1-e29d-4faa-ac85-428dd7108da1",
      "cell_type": "code",
      "source": "# Q3. Explain the difference between instance methods and class methods. Provide an example of each.\n\n'''\nAnswer\n\nInstance methods and class methods are both used within classes in Python, but they serve different purposes and have distinct behaviors. Here’s an explanation of each:\n1. Instance Methods:\nDefinition: Instance methods are methods that operate on instances (objects) of a class. They can access and modify the instance’s attributes.\nAccess: These methods require an instance of the class to be called and typically use self as the first parameter, which refers to the instance itself.\nUsage: They are used when you want to perform operations specific to an instance of the class.\n\nExample:\n'''\nclass Car:\n    def __init__(self, make, model, year):\n        self.make = make\n        self.model = model\n        self.year = year\n\n    def display_info(self):  # Instance method\n        print(f\"Car Information: {self.year} {self.make} {self.model}\")\n\n# Example usage\ncar = Car(\"Honda\", \"Civic\", 2022)\ncar.display_info()  # Calls the instance method\n\n'''\n2. Class Methods:\nDefinition: Class methods are methods that operate on the class itself, rather than on instances of the class. They can access or modify class-level data (shared among all instances).\nAccess: These methods use cls as the first parameter, which refers to the class itself, not any particular instance. Class methods are defined using the @classmethod decorator.\nUsage: They are used when you need to perform an operation that is related to the class but independent of any specific instance.\n'''\n\nclass Car:\n    total_cars = 0  # Class attribute\n\n    def __init__(self, make, model, year):\n        self.make = make\n        self.model = model\n        self.year = year\n        Car.total_cars += 1\n\n    @classmethod\n    def display_total_cars(cls):  # Class method\n        print(f\"Total cars created: {cls.total_cars}\")\n\n# Example usage\ncar1 = Car(\"Toyota\", \"Corolla\", 2020)\ncar2 = Car(\"Honda\", \"Civic\", 2022)\nCar.display_total_cars()  # Calls the class method\n\n'''\nKey Differences:\nInstance Method: Operates on a specific instance of a class and can access instance variables through self.\nClass Method: Operates on the class itself and can access or modify class-level data through cls.\n'''",
      "metadata": {
        "trusted": true
      },
      "outputs": [],
      "execution_count": null
    },
    {
      "id": "5dda6f66-1e21-438a-93c1-49cfbd679034",
      "cell_type": "code",
      "source": "# Q4. How does Python implement method overloading? Give an example.\n\n'''\nAnswer\n\nMethod Overloading in Python\nUnlike some other programming languages, Python does not natively support method overloading, which means you cannot define multiple methods with the same name but different signatures (parameters) \nwithin the same class. Instead, Python achieves a similar effect through default arguments, variable-length arguments, and other techniques like conditional checks inside a single method.\nHow Python Mimics Method Overloading:\nUsing Default Arguments: Define a method with default values for parameters.\nUsing Variable-Length Arguments: Use *args and **kwargs to accept a varying number of positional and keyword arguments.\nConditional Logic: Use conditions within the method to handle different types of input.\nExample of Mimicking Method Overloading:\n'''\n\nclass Calculator:\n    def add(self, a, b=0, c=0):  # Method with default arguments\n        return a + b + c\n\n# Example usage\ncalc = Calculator()\nprint(calc.add(5))           # Calls add with one argument (5 + 0 + 0)\nprint(calc.add(5, 10))       # Calls add with two arguments (5 + 10 + 0)\nprint(calc.add(5, 10, 15))   # Calls add with three arguments (5 + 10 + 15)\n",
      "metadata": {
        "trusted": true
      },
      "outputs": [],
      "execution_count": null
    },
    {
      "id": "b0f85b7e-ccd4-41fb-864a-e474d74d5594",
      "cell_type": "code",
      "source": "# Q5. What are the three types of access modifiers in Python? How are they denoted?\n\n'''\nAnswer\n\nIn Python, access modifiers determine the accessibility or visibility of class members (attributes and methods) from outside the class. \nPython uses naming conventions rather than explicit keywords (like private or public in other languages) to implement these access controls. Here are the three types of access modifiers in Python:\n\n1. Public Access Modifier\nDescription: Public members are accessible from anywhere, both inside and outside the class. By default, all class members in Python are public.\nDenotation: No special prefix is required; the member name is written as is.\n'''\n\nclass Car:\n    def __init__(self, make, model):\n        self.make = make  # Public attribute\n        self.model = model  # Public attribute\n\ncar = Car(\"Toyota\", \"Corolla\")\nprint(car.make)  # Accessible from outside the class\nprint(car.model)  # Accessible from outside the class\n\n'''\n2. Protected Access Modifier\nDescription: Protected members are intended to be accessed within the class and by subclasses. In Python, this is a convention and not enforced strictly by the interpreter.\nDenotation: Protected members are denoted by a single underscore prefix (_).\n'''\nclass Car:\n    def __init__(self, make, model):\n        self._make = make  # Protected attribute\n        self._model = model  # Protected attribute\n\nclass SportsCar(Car):\n    def display_info(self):\n        print(f\"Make: {self._make}, Model: {self._model}\")  # Accessible in subclass\n\ncar = SportsCar(\"Ferrari\", \"488\")\ncar.display_info()\n\n'''\n3. Private Access Modifier\nDescription: Private members are intended to be accessible only within the class where they are defined. They are not directly accessible from outside the class.\nDenotation: Private members are denoted by a double underscore prefix (__). This name-mangling technique makes the variable harder to access from outside.\n'''\n\nclass Car:\n    def __init__(self, make, model):\n        self.__make = make  # Private attribute\n        self.__model = model  # Private attribute\n\n    def display_info(self):\n        print(f\"Make: {self.__make}, Model: {self.__model}\")\n\ncar = Car(\"BMW\", \"M3\")\ncar.display_info()\n# print(car.__make)  # This would raise an AttributeError due to private access\n\n\n'''\nSummary:\nPublic (make): Accessible from anywhere.\nProtected (_make): Accessible within the class and its subclasses (by convention).\nPrivate (__make): Accessible only within the class where defined, using name mangling to prevent direct access from outside.\nThese access controls help manage data encapsulation and protect the integrity of class attributes and methods.\n\n'''",
      "metadata": {
        "trusted": true
      },
      "outputs": [],
      "execution_count": null
    },
    {
      "id": "1d8828d7-9167-4912-8eb2-f312c37791ce",
      "cell_type": "code",
      "source": "# Q6. Describe the five types of inheritance in Python. Provide a simple example of multiple inheritance.\n\n'''\nAnswer\n\nIn Python, inheritance allows one class to inherit attributes and methods from another class. This promotes code reuse and establishes relationships between classes. \nHere are the five types of inheritance in Python:\n\n1. Single Inheritance\nDescription: In single inheritance, a class (subclass) inherits from a single parent class (superclass).\nExample:\n'''\nclass Animal:\n    def speak(self):\n        print(\"Animal speaks\")\n\nclass Dog(Animal):  # Inheriting from Animal\n    def bark(self):\n        print(\"Dog barks\")\n\n# Example usage\ndog = Dog()\ndog.speak()  # Inherited method\ndog.bark()   # Subclass method\n\n'''\n2. Multiple Inheritance\nDescription: In multiple inheritance, a class inherits from more than one parent class. The subclass inherits attributes and methods from all parent classes.\nExample:\n'''\n\nclass Flyer:\n    def fly(self):\n        print(\"Can fly\")\n\nclass Swimmer:\n    def swim(self):\n        print(\"Can swim\")\n\nclass Duck(Flyer, Swimmer):  # Inheriting from both Flyer and Swimmer\n    def quack(self):\n        print(\"Duck quacks\")\n\n# Example usage\nduck = Duck()\nduck.fly()    # Inherited from Flyer\nduck.swim()   # Inherited from Swimmer\nduck.quack()  # Subclass method\n\n\n'''\n3. Multilevel Inheritance\nDescription: In multilevel inheritance, a class inherits from a parent class, and then another class inherits from that class, forming a chain.\nExample:\n'''\nclass Animal:\n    def speak(self):\n        print(\"Animal speaks\")\n\nclass Mammal(Animal):  # Inheriting from Animal\n    def give_birth(self):\n        print(\"Gives birth to live young\")\n\nclass Dog(Mammal):  # Inheriting from Mammal (and indirectly from Animal)\n    def bark(self):\n        print(\"Dog barks\")\n\n# Example usage\ndog = Dog()\ndog.speak()       # Inherited from Animal\ndog.give_birth()  # Inherited from Mammal\ndog.bark()        # Subclass method\n\n'''\n4. Hierarchical Inheritance\nDescription: In hierarchical inheritance, multiple subclasses inherit from a single parent class.\nExample:\n'''\nclass Animal:\n    def speak(self):\n        print(\"Animal speaks\")\n\nclass Dog(Animal):  # Inheriting from Animal\n    def bark(self):\n        print(\"Dog barks\")\n\nclass Cat(Animal):  # Inheriting from Animal\n    def meow(self):\n        print(\"Cat meows\")\n\n# Example usage\ndog = Dog()\ncat = Cat()\ndog.speak()  # Inherited from Animal\ncat.speak()  # Inherited from Animal\n\n'''\n5. Hybrid Inheritance\nDescription: Hybrid inheritance is a combination of two or more types of inheritance. It involves multiple inheritance patterns in a single class hierarchy.\nExample:\n'''\nclass Flyer:\n    def fly(self):\n        print(\"Can fly\")\n\nclass Swimmer:\n    def swim(self):\n        print(\"Can swim\")\n\nclass Animal:\n    def speak(self):\n        print(\"Animal speaks\")\n\nclass Duck(Flyer, Swimmer, Animal):  # Hybrid inheritance\n    def quack(self):\n        print(\"Duck quacks\")\n\n# Example usage\nduck = Duck()\nduck.fly()    # Inherited from Flyer\nduck.swim()   # Inherited from Swimmer\nduck.speak()  # Inherited from Animal\nduck.quack()  # Subclass method\n\n'''\nSummary:\nSingle Inheritance: Inheriting from one parent class.\nMultiple Inheritance: Inheriting from multiple parent classes.\nMultilevel Inheritance: A chain of inheritance where a class inherits from another class, which itself inherits from a base class.\nHierarchical Inheritance: Multiple subclasses inherit from a single parent class.\nHybrid Inheritance: A combination of multiple inheritance patterns.\nThese inheritance types help in designing a class hierarchy that best suits the problem at hand and promotes code reuse and modularity.\n'''",
      "metadata": {
        "trusted": true
      },
      "outputs": [],
      "execution_count": null
    },
    {
      "id": "9fcb8587-0139-4539-930b-ad470d98d4d0",
      "cell_type": "code",
      "source": "# Q7. What is the Method Resolution Order (MRO) in Python? How can you retrieve it programmatically?\n\n'''\nAnswer\n\nThe Method Resolution Order (MRO) in Python is the order in which methods are looked up and resolved in a class hierarchy when you call a method on an instance. \nThe MRO is crucial in multiple inheritance scenarios, where it determines the sequence in which base classes are checked for methods.\nHow MRO Works\nWhen a method is called on an instance, Python uses the MRO to search for the method in the following order:\nStart from the class of the instance.\nMove up the hierarchy to parent classes, according to the MRO.\nUse the first definition found in this order.\nPython uses the C3 linearization algorithm (also known as C3 superclass linearization) to compute the MRO, ensuring a consistent and predictable order.\nExample of MRO\nConsider the following class hierarchy:\n'''\nclass A:\n    def method(self):\n        print(\"Method in A\")\n\nclass B(A):\n    def method(self):\n        print(\"Method in B\")\n\nclass C(A):\n    def method(self):\n        print(\"Method in C\")\n\nclass D(B, C):\n    pass\n\n# Example usage\nd = D()\nd.method()  # Calls the method according to MRO\n\n'''\nIn this example, the MRO for class D would be D -> B -> C -> A, meaning Python will first look for the method in D, then B, then C, and finally in A.\nRetrieving MRO Programmatically\nYou can retrieve the MRO programmatically using the __mro__ attribute or the mro() method of a class. Here's how:\n'''\nclass A:\n    def method(self):\n        print(\"Method in A\")\n\nclass B(A):\n    def method(self):\n        print(\"Method in B\")\n\nclass C(A):\n    def method(self):\n        print(\"Method in C\")\n\nclass D(B, C):\n    pass\n\n# Retrieve MRO\nprint(D.__mro__)      # __mro__ attribute\nprint(D.mro())       # mro() method\n\n'''\nSummary\nMRO determines the order in which classes are searched for methods in a class hierarchy.\n__mro__ attribute and mro() method can be used to retrieve the MRO of a class programmatically.\nThe MRO is computed using the C3 linearization algorithm, ensuring a consistent order for method resolution.\n'''",
      "metadata": {
        "trusted": true
      },
      "outputs": [],
      "execution_count": null
    },
    {
      "id": "22f3a9d0-a313-4230-b519-8f0f7a92d3a3",
      "cell_type": "code",
      "source": "# Q8. Create an abstract base class Shape with an abstract method area(). Then create two subclasses Circle and Rectangle that implement the area() method.\n\n'''\nAnswer\n'''\nfrom abc import ABC, abstractmethod\nimport math\n\n# Abstract base class\nclass Shape(ABC):\n    @abstractmethod\n    def area(self):\n        \"\"\"Method to calculate the area of the shape\"\"\"\n        pass\n\n# Subclass Circle\nclass Circle(Shape):\n    def __init__(self, radius):\n        self.radius = radius\n\n    def area(self):\n        \"\"\"Calculate the area of the circle\"\"\"\n        return math.pi * (self.radius ** 2)\n\n# Subclass Rectangle\nclass Rectangle(Shape):\n    def __init__(self, width, height):\n        self.width = width\n        self.height = height\n\n    def area(self):\n        \"\"\"Calculate the area of the rectangle\"\"\"\n        return self.width * self.height\n\n# Example usage\ncircle = Circle(5)\nrectangle = Rectangle(4, 6)\n\nprint(f\"Circle area: {circle.area():.2f}\")      # Output: Circle area: 78.54\nprint(f\"Rectangle area: {rectangle.area():.2f}\")  # Output: Rectangle area: 24.00\n",
      "metadata": {
        "trusted": true
      },
      "outputs": [],
      "execution_count": null
    },
    {
      "id": "3388f9c4-8631-4e8f-9322-a9994adebfea",
      "cell_type": "code",
      "source": "# Q9. Demonstrate polymorphism by creating a function that can work with different shape objects to calculate and print their areas.\n\n'''\nAnswer\n\nPolymorphism allows objects of different classes to be treated as objects of a common superclass. This is particularly useful when you want to write functions that can operate on \nobjects of various types without needing to know their specific class. In this case, we can create a function that calculates and prints the area of different shape objects using polymorphism.\nCode Example:\n'''\n\nfrom abc import ABC, abstractmethod\nimport math\n\n# Abstract base class\nclass Shape(ABC):\n    @abstractmethod\n    def area(self):\n        \"\"\"Method to calculate the area of the shape\"\"\"\n        pass\n\n# Subclass Circle\nclass Circle(Shape):\n    def __init__(self, radius):\n        self.radius = radius\n\n    def area(self):\n        \"\"\"Calculate the area of the circle\"\"\"\n        return math.pi * (self.radius ** 2)\n\n# Subclass Rectangle\nclass Rectangle(Shape):\n    def __init__(self, width, height):\n        self.width = width\n        self.height = height\n\n    def area(self):\n        \"\"\"Calculate the area of the rectangle\"\"\"\n        return self.width * self.height\n\n# Function to calculate and print area of a shape\ndef print_area(shape: Shape):\n    \"\"\"Calculate and print the area of the given shape\"\"\"\n    print(f\"Area: {shape.area():.2f}\")\n\n# Example usage\ncircle = Circle(5)\nrectangle = Rectangle(4, 6)\n\nprint_area(circle)    # Output: Area: 78.54\nprint_area(rectangle) # Output: Area: 24.00\n",
      "metadata": {
        "trusted": true
      },
      "outputs": [],
      "execution_count": null
    },
    {
      "id": "7125c1b3-b6b4-408c-9859-4790c9fc5a38",
      "cell_type": "code",
      "source": "# Q10. Implement encapsulation in a BankAccount class with private attributes for balance and account_number. Include methods for deposit, withdrawal, and balance inquiry.\n\n'''\nAnswer\n\nEncapsulation involves bundling the data (attributes) and methods that operate on the data into a single unit, usually a class, and restricting access to some of the object's components. \nIn Python, encapsulation is achieved using access modifiers (private, protected, and public attributes).\nCode Example:\n'''\nclass BankAccount:\n    def __init__(self, account_number, initial_balance=0):\n        self.__account_number = account_number  # Private attribute\n        self.__balance = initial_balance        # Private attribute\n\n    def deposit(self, amount):\n        \"\"\"Method to deposit money into the account.\"\"\"\n        if amount > 0:\n            self.__balance += amount\n            print(f\"Deposited: ${amount:.2f}\")\n        else:\n            print(\"Deposit amount must be positive.\")\n\n    def withdraw(self, amount):\n        \"\"\"Method to withdraw money from the account.\"\"\"\n        if amount > 0:\n            if amount <= self.__balance:\n                self.__balance -= amount\n                print(f\"Withdrawn: ${amount:.2f}\")\n            else:\n                print(\"Insufficient funds.\")\n        else:\n            print(\"Withdrawal amount must be positive.\")\n\n    def get_balance(self):\n        \"\"\"Method to get the current balance.\"\"\"\n        return self.__balance\n\n    def get_account_number(self):\n        \"\"\"Method to get the account number.\"\"\"\n        return self.__account_number\n\n# Example usage\naccount = BankAccount(\"123456789\", 1000)\n\nprint(f\"Account Number: {account.get_account_number()}\")\nprint(f\"Initial Balance: ${account.get_balance():.2f}\")\n\naccount.deposit(500)\nprint(f\"Balance after deposit: ${account.get_balance():.2f}\")\n\naccount.withdraw(200)\nprint(f\"Balance after withdrawal: ${account.get_balance():.2f}\")\n\naccount.withdraw(1500)  # Attempt to withdraw more than the balance\n",
      "metadata": {
        "trusted": true
      },
      "outputs": [],
      "execution_count": null
    },
    {
      "id": "00028e31-9928-4556-ab56-31fa144e2e43",
      "cell_type": "code",
      "source": "# Q11. Write a class that overrides the __str__ and __add__ magic methods. What will these methods allow you to do?\n\n'''\nAnswer\n\nIn Python, magic methods (also known as dunder methods) are special methods that begin and end with double underscores (__). They allow you to define or customize the behavior of \nbuilt-in operations for your classes. Two commonly overridden magic methods are __str__ and __add__.\nCode Example:\n'''\n\nclass Point:\n    def __init__(self, x, y):\n        self.x = x\n        self.y = y\n\n    def __str__(self):\n        \"\"\"Override the __str__ method to provide a string representation of the object.\"\"\"\n        return f\"Point({self.x}, {self.y})\"\n\n    def __add__(self, other):\n        \"\"\"Override the __add__ method to define addition for Point objects.\"\"\"\n        if isinstance(other, Point):\n            return Point(self.x + other.x, self.y + other.y)\n        return NotImplemented\n\n# Example usage\np1 = Point(2, 3)\np2 = Point(4, 5)\n\nprint(p1)          # Uses __str__ method, Output: Point(2, 3)\nprint(p2)          # Uses __str__ method, Output: Point(4, 5)\n\np3 = p1 + p2       # Uses __add__ method\nprint(p3)          # Uses __str__ method, Output: Point(6, 8)\n",
      "metadata": {
        "trusted": true
      },
      "outputs": [],
      "execution_count": null
    },
    {
      "id": "8012d7bd-98e8-4bb4-be48-b6acebfc7930",
      "cell_type": "code",
      "source": "# Q12. Create a decorator that measures and prints the execution time of a function.\n\n'''\nAnswer\n'''\n\nimport time\n\ndef timing_decorator(func):\n    \"\"\"Decorator that measures and prints the execution time of a function.\"\"\"\n    def wrapper(*args, **kwargs):\n        start_time = time.time()  # Record the start time\n        result = func(*args, **kwargs)  # Call the decorated function\n        end_time = time.time()  # Record the end time\n        execution_time = end_time - start_time  # Calculate the execution time\n        print(f\"Execution time for {func.__name__}: {execution_time:.4f} seconds\")\n        return result  # Return the result of the function\n    return wrapper\n\n# Example usage\n@timing_decorator\ndef example_function(n):\n    \"\"\"Function that simulates a time-consuming task.\"\"\"\n    total = 0\n    for i in range(n):\n        total += i ** 2\n    return total\n\n# Call the decorated function\nresult = example_function(10000)\nprint(f\"Result: {result}\")\n",
      "metadata": {
        "trusted": true
      },
      "outputs": [],
      "execution_count": null
    },
    {
      "id": "56a40a12-c548-4866-8e98-83e140272f86",
      "cell_type": "code",
      "source": "# Q13. Explain the concept of the Diamond Problem in multiple inheritance. How does Python resolve it?\n\n'''\nAnswer\n\nThe Diamond Problem is a well-known issue in object-oriented programming languages that support multiple inheritance. It occurs when a class inherits from two classes that both inherit \nfrom a common base class, forming a diamond-shaped inheritance hierarchy. This can lead to ambiguity and confusion about which methods or attributes to inherit from the common base class.\nThe Diamond Problem\nHere’s a visual representation of the Diamond Problem:\n        A\n       / \\\n      B   C\n       \\ /\n        D\n\nIn this example:\nClass D inherits from both Class B and Class C.\nClass B and Class C both inherit from Class A.\nThe issue arises if both Class B and Class C override a method from Class A, and Class D calls this method. The question is: which version of the method (from Class B or Class C) \nshould be used in Class D?\nHow Python Resolves the Diamond Problem\nPython uses a method resolution order (MRO) algorithm to resolve the Diamond Problem. Python’s MRO is based on the C3 linearization algorithm (or C3 superclass linearization). \nThis algorithm provides a consistent and predictable order for method resolution.\nHere’s how Python resolves the problem:\nMRO Calculation:\n\nPython computes the MRO of a class using the C3 linearization algorithm. This linearization ensures that the order of method resolution is consistent and respects the inheritance hierarchy.\nOrder of Resolution:\n\nThe MRO lists the classes in the order in which Python will search for methods and attributes. If a method is called on an instance of a class, Python will look for it in the order specified by the MRO.\nExample Implementation:\n\nHere’s a Python example demonstrating the MRO resolution for the Diamond Problem:\n'''\nclass A:\n    def hello(self):\n        print(\"Hello from A\")\n\nclass B(A):\n    def hello(self):\n        print(\"Hello from B\")\n\nclass C(A):\n    def hello(self):\n        print(\"Hello from C\")\n\nclass D(B, C):\n    pass\n\n# Example usage\nd = D()\nd.hello()  # Output: Hello from B\n\n# Retrieve MRO\nprint(D.__mro__)  # Output: (<class '__main__.D'>, <class '__main__.B'>, <class '__main__.C'>, <class '__main__.A'>, <class 'object'>)\nprint(D.mro())   # Output: [<class '__main__.D'>, <class '__main__.B'>, <class '__main__.C'>, <class '__main__.A'>, <class 'object'>]\n\n'''\nSummary\nThe Diamond Problem arises in multiple inheritance scenarios where ambiguity exists about which base class method or attribute should be used. \nPython resolves this issue using the C3 linearization algorithm to compute a consistent method resolution order (MRO). This ensures that method and attribute lookups are performed in a predictable \nand systematic way, avoiding ambiguity and ensuring consistent behavior across the class hierarchy.\n'''",
      "metadata": {
        "trusted": true
      },
      "outputs": [],
      "execution_count": null
    },
    {
      "id": "74a1f004-5f85-47d0-a7fe-4286c3de4f13",
      "cell_type": "code",
      "source": "# Q14. Write a class method that keeps track of the number of instances created from a class.\n\n\n'''\nAnswer\n'''\n\nclass InstanceCounter:\n    _instance_count = 0  # Class variable to keep track of the number of instances\n\n    def __init__(self):\n        InstanceCounter._instance_count += 1  # Increment the count when a new instance is created\n\n    @classmethod\n    def get_instance_count(cls):\n        \"\"\"Class method to get the number of instances created.\"\"\"\n        return cls._instance_count\n\n# Example usage\nobj1 = InstanceCounter()\nobj2 = InstanceCounter()\nobj3 = InstanceCounter()\n\nprint(f\"Number of instances created: {InstanceCounter.get_instance_count()}\")  # Output: Number of instances created: 3\n",
      "metadata": {
        "trusted": true
      },
      "outputs": [],
      "execution_count": null
    },
    {
      "id": "e2c01514-94ed-400d-b520-3421fbb6dd08",
      "cell_type": "code",
      "source": "# Q15. Implement a static method in a class that checks if a given year is a leap year.\n\n'''\nAnswer\n'''\nclass YearUtils:\n    @staticmethod\n    def is_leap_year(year):\n        \"\"\"Static method to check if a given year is a leap year.\"\"\"\n        if (year % 4 == 0):\n            if (year % 100 == 0):\n                if (year % 400 == 0):\n                    return True\n                else:\n                    return False\n            else:\n                return True\n        else:\n            return False\n\n# Example usage\nprint(YearUtils.is_leap_year(2020))  # Output: True\nprint(YearUtils.is_leap_year(1900))  # Output: False\nprint(YearUtils.is_leap_year(2000))  # Output: True\nprint(YearUtils.is_leap_year(2023))  # Output: False\n",
      "metadata": {
        "trusted": true
      },
      "outputs": [],
      "execution_count": null
    }
  ]
}